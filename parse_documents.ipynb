{
 "cells": [
  {
   "cell_type": "code",
   "execution_count": 1,
   "metadata": {},
   "outputs": [],
   "source": [
    "import pandas as pd\n",
    "import numpy as np"
   ]
  },
  {
   "cell_type": "code",
   "execution_count": 9,
   "metadata": {},
   "outputs": [],
   "source": [
    "import spacy\n",
    "from sklearn.naive_bayes import MultinomialNB\n",
    "from sklearn.model_selection import train_test_split\n",
    "from sklearn.feature_extraction.text import TfidfTransformer\n",
    "from sklearn.feature_extraction.text import CountVectorizer\n",
    "from sklearn.metrics import confusion_matrix\n"
   ]
  },
  {
   "cell_type": "code",
   "execution_count": 2,
   "metadata": {},
   "outputs": [],
   "source": [
    "truth_seeker = pd.read_csv(\"Data/truthSeekerData.csv\")"
   ]
  },
  {
   "cell_type": "code",
   "execution_count": 50,
   "metadata": {},
   "outputs": [
    {
     "data": {
      "text/html": [
       "<div>\n",
       "<style scoped>\n",
       "    .dataframe tbody tr th:only-of-type {\n",
       "        vertical-align: middle;\n",
       "    }\n",
       "\n",
       "    .dataframe tbody tr th {\n",
       "        vertical-align: top;\n",
       "    }\n",
       "\n",
       "    .dataframe thead th {\n",
       "        text-align: right;\n",
       "    }\n",
       "</style>\n",
       "<table border=\"1\" class=\"dataframe\">\n",
       "  <thead>\n",
       "    <tr style=\"text-align: right;\">\n",
       "      <th></th>\n",
       "      <th>Title</th>\n",
       "      <th>Date</th>\n",
       "      <th>Article</th>\n",
       "      <th>label</th>\n",
       "    </tr>\n",
       "  </thead>\n",
       "  <tbody>\n",
       "    <tr>\n",
       "      <th>0</th>\n",
       "      <td>#OperationRadiation – The Video BANNED From Yo...</td>\n",
       "      <td>August 25, 2020</td>\n",
       "      <td>Logic Before Authority – June 16, 2020\\n—\\n#Op...</td>\n",
       "      <td>1</td>\n",
       "    </tr>\n",
       "    <tr>\n",
       "      <th>1</th>\n",
       "      <td>James Corbett in Democracy Down</td>\n",
       "      <td>July 25, 2020</td>\n",
       "      <td>James Corbett – The Corbett Report July 24, 20...</td>\n",
       "      <td>1</td>\n",
       "    </tr>\n",
       "    <tr>\n",
       "      <th>2</th>\n",
       "      <td>Riots, Race, Religion and Revolution – The Tru...</td>\n",
       "      <td>June 9, 2020</td>\n",
       "      <td>E. Michael Jones – YouTube June 8, 2020</td>\n",
       "      <td>1</td>\n",
       "    </tr>\n",
       "    <tr>\n",
       "      <th>3</th>\n",
       "      <td>The Story of Influenza. An Important Tale to T...</td>\n",
       "      <td>May 15, 2020</td>\n",
       "      <td>No One To Vote For – May 14, 2020\\nIt is highl...</td>\n",
       "      <td>1</td>\n",
       "    </tr>\n",
       "    <tr>\n",
       "      <th>4</th>\n",
       "      <td>Israeli Historian Discovers ‘6 Million’ Holoca...</td>\n",
       "      <td>May 1, 2020</td>\n",
       "      <td>Eric Striker – The Unz Review April 30, 2020\\n...</td>\n",
       "      <td>1</td>\n",
       "    </tr>\n",
       "    <tr>\n",
       "      <th>...</th>\n",
       "      <td>...</td>\n",
       "      <td>...</td>\n",
       "      <td>...</td>\n",
       "      <td>...</td>\n",
       "    </tr>\n",
       "    <tr>\n",
       "      <th>210</th>\n",
       "      <td>The British government’s covert propaganda cam...</td>\n",
       "      <td>February 26, 2020</td>\n",
       "      <td>Ian Cobain, Alice Ross – Middle East Eye Feb 1...</td>\n",
       "      <td>1</td>\n",
       "    </tr>\n",
       "    <tr>\n",
       "      <th>211</th>\n",
       "      <td>How to Know If America Is Your Enemy</td>\n",
       "      <td>February 25, 2020</td>\n",
       "      <td>Eric Zuesse – Strategic Review Feb 24, 2020\\nU...</td>\n",
       "      <td>1</td>\n",
       "    </tr>\n",
       "    <tr>\n",
       "      <th>212</th>\n",
       "      <td>Flashback: Lest We Forget – Hillary Clinton: W...</td>\n",
       "      <td>February 25, 2020</td>\n",
       "      <td>By Uprooted Palestinians – Global Research Feb...</td>\n",
       "      <td>1</td>\n",
       "    </tr>\n",
       "    <tr>\n",
       "      <th>213</th>\n",
       "      <td>Syrian Patriarch: Islamic Nations Must Admit M...</td>\n",
       "      <td>February 23, 2020</td>\n",
       "      <td>Church Militant – Jules Gomes Feb 20, 2020\\nIg...</td>\n",
       "      <td>1</td>\n",
       "    </tr>\n",
       "    <tr>\n",
       "      <th>214</th>\n",
       "      <td>Assad Forces Give Turkish Army Whipping In Eas...</td>\n",
       "      <td>February 22, 2020</td>\n",
       "      <td>South Front – Feb 21, 2020\\n\\n—\\nOn February 2...</td>\n",
       "      <td>1</td>\n",
       "    </tr>\n",
       "  </tbody>\n",
       "</table>\n",
       "<p>215 rows × 4 columns</p>\n",
       "</div>"
      ],
      "text/plain": [
       "                                                 Title               Date  \\\n",
       "0    #OperationRadiation – The Video BANNED From Yo...    August 25, 2020   \n",
       "1                      James Corbett in Democracy Down      July 25, 2020   \n",
       "2    Riots, Race, Religion and Revolution – The Tru...       June 9, 2020   \n",
       "3    The Story of Influenza. An Important Tale to T...       May 15, 2020   \n",
       "4    Israeli Historian Discovers ‘6 Million’ Holoca...        May 1, 2020   \n",
       "..                                                 ...                ...   \n",
       "210  The British government’s covert propaganda cam...  February 26, 2020   \n",
       "211               How to Know If America Is Your Enemy  February 25, 2020   \n",
       "212  Flashback: Lest We Forget – Hillary Clinton: W...  February 25, 2020   \n",
       "213  Syrian Patriarch: Islamic Nations Must Admit M...  February 23, 2020   \n",
       "214  Assad Forces Give Turkish Army Whipping In Eas...  February 22, 2020   \n",
       "\n",
       "                                               Article  label  \n",
       "0    Logic Before Authority – June 16, 2020\\n—\\n#Op...      1  \n",
       "1    James Corbett – The Corbett Report July 24, 20...      1  \n",
       "2              E. Michael Jones – YouTube June 8, 2020      1  \n",
       "3    No One To Vote For – May 14, 2020\\nIt is highl...      1  \n",
       "4    Eric Striker – The Unz Review April 30, 2020\\n...      1  \n",
       "..                                                 ...    ...  \n",
       "210  Ian Cobain, Alice Ross – Middle East Eye Feb 1...      1  \n",
       "211  Eric Zuesse – Strategic Review Feb 24, 2020\\nU...      1  \n",
       "212  By Uprooted Palestinians – Global Research Feb...      1  \n",
       "213  Church Militant – Jules Gomes Feb 20, 2020\\nIg...      1  \n",
       "214  South Front – Feb 21, 2020\\n\\n—\\nOn February 2...      1  \n",
       "\n",
       "[215 rows x 4 columns]"
      ]
     },
     "execution_count": 50,
     "metadata": {},
     "output_type": "execute_result"
    }
   ],
   "source": [
    "truth_seeker['label'] = 1\n",
    "truth_seeker"
   ]
  },
  {
   "cell_type": "code",
   "execution_count": 41,
   "metadata": {},
   "outputs": [],
   "source": [
    "article = truth_seeker.iloc[214]['Article']"
   ]
  },
  {
   "cell_type": "code",
   "execution_count": 61,
   "metadata": {},
   "outputs": [
    {
     "data": {
      "text/plain": [
       "str"
      ]
     },
     "execution_count": 61,
     "metadata": {},
     "output_type": "execute_result"
    }
   ],
   "source": [
    "type(truth_seeker.iloc[214]['Article'])"
   ]
  },
  {
   "cell_type": "code",
   "execution_count": 43,
   "metadata": {},
   "outputs": [],
   "source": [
    "nlp = spacy.load(\"en_core_web_sm\")"
   ]
  },
  {
   "cell_type": "code",
   "execution_count": 66,
   "metadata": {},
   "outputs": [],
   "source": [
    "def tokenize(article):\n",
    "    doc = nlp(str(article))\n",
    "    token_list = []\n",
    "    for token in doc:\n",
    "        custom_token = token.text\n",
    "        if token.like_url:\n",
    "            token.tag_ = 'URL'\n",
    "            custom_token = '_URL_'\n",
    "        elif token.is_digit:\n",
    "            custom_token = '_NUM_'\n",
    "        token_list.append(custom_token)\n",
    "    return(' '.join(token_list))"
   ]
  },
  {
   "cell_type": "code",
   "execution_count": 67,
   "metadata": {},
   "outputs": [],
   "source": [
    "# Tokenize all the articles\n",
    "truth_seeker['Article'] = truth_seeker['Article'].apply(tokenize)"
   ]
  },
  {
   "cell_type": "code",
   "execution_count": 68,
   "metadata": {},
   "outputs": [],
   "source": [
    "count_vect = CountVectorizer()\n",
    "counts = count_vect.fit_transform(truth_seeker['Article'])"
   ]
  },
  {
   "cell_type": "code",
   "execution_count": 69,
   "metadata": {},
   "outputs": [],
   "source": [
    "transformer = TfidfTransformer().fit(counts)\n",
    "counts = transformer.transform(counts)"
   ]
  },
  {
   "cell_type": "code",
   "execution_count": 70,
   "metadata": {},
   "outputs": [],
   "source": [
    "# Split into train and test\n",
    "X_train, X_test, y_train, y_test = train_test_split(counts, truth_seeker['label'], test_size=0.1, random_state=69)"
   ]
  },
  {
   "cell_type": "code",
   "execution_count": 71,
   "metadata": {},
   "outputs": [],
   "source": [
    "# Fit a MNB Model\n",
    "model = MultinomialNB().fit(X_train, y_train)"
   ]
  },
  {
   "cell_type": "code",
   "execution_count": 72,
   "metadata": {},
   "outputs": [
    {
     "name": "stdout",
     "output_type": "stream",
     "text": [
      "1.0\n"
     ]
    }
   ],
   "source": [
    "# Accuracy\n",
    "predicted = model.predict(X_test)\n",
    "print(np.mean(predicted == y_test))"
   ]
  },
  {
   "cell_type": "code",
   "execution_count": 73,
   "metadata": {},
   "outputs": [
    {
     "name": "stdout",
     "output_type": "stream",
     "text": [
      "[[22]]\n"
     ]
    }
   ],
   "source": [
    "# Confusion Matrix\n",
    "print(confusion_matrix(y_test, predicted))"
   ]
  },
  {
   "cell_type": "code",
   "execution_count": null,
   "metadata": {},
   "outputs": [],
   "source": []
  },
  {
   "cell_type": "code",
   "execution_count": null,
   "metadata": {},
   "outputs": [],
   "source": []
  }
 ],
 "metadata": {
  "kernelspec": {
   "display_name": "Python 3",
   "language": "python",
   "name": "python3"
  },
  "language_info": {
   "codemirror_mode": {
    "name": "ipython",
    "version": 3
   },
   "file_extension": ".py",
   "mimetype": "text/x-python",
   "name": "python",
   "nbconvert_exporter": "python",
   "pygments_lexer": "ipython3",
   "version": "3.7.3"
  }
 },
 "nbformat": 4,
 "nbformat_minor": 4
}
